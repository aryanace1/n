{
 "cells": [
  {
   "cell_type": "code",
   "execution_count": 3,
   "id": "bbf5a00c",
   "metadata": {},
   "outputs": [],
   "source": [
    "import random\n",
    "from PIL import Image, ImageDraw, ImageFont\n",
    "import matplotlib.pyplot as plt\n",
    "from nltk.corpus import stopwords\n",
    "from nltk.tokenize import sent_tokenize,word_tokenize"
   ]
  },
  {
   "cell_type": "code",
   "execution_count": 4,
   "id": "902d8318",
   "metadata": {},
   "outputs": [],
   "source": [
    "def tokenize_word(text):\n",
    "    return word_tokenize(text)\n",
    "def lemmatize(word):\n",
    "    lemmatizer=WordNetLemmatizer()\n",
    "    return lemmatizer.lemmatize(word)"
   ]
  },
  {
   "cell_type": "code",
   "execution_count": 5,
   "id": "f6b77846",
   "metadata": {},
   "outputs": [],
   "source": [
    "def preprocesstext(text):\n",
    "    text = text.lower()\n",
    "    words = tokenize_word(text)\n",
    "    w = [word for word in words if not is_stop_word(word) and word != ',' and  word != '.' and word != ':']\n",
    "    return w\n",
    "\n",
    "def is_stop_word(word):\n",
    "    stop_words=set(stopwords.words('english'))\n",
    "    return word.lower() in stop_words"
   ]
  },
  {
   "cell_type": "code",
   "execution_count": 6,
   "id": "2fdac94c",
   "metadata": {},
   "outputs": [],
   "source": [
    "def calculatewordfreq(words):\n",
    "    wordfreq = {}\n",
    "    for word in words:\n",
    "        wordfreq[word] = wordfreq.get(word,0) + 1\n",
    "    return wordfreq"
   ]
  },
  {
   "cell_type": "code",
   "execution_count": 7,
   "id": "405edfed",
   "metadata": {},
   "outputs": [],
   "source": [
    "def createcloud(wordfreq, words, size=(800, 650)):\n",
    "    cloud = Image.new(\"RGB\", size, \"black\")\n",
    "    img = ImageDraw.Draw(cloud)\n",
    "    displayedwords = set()\n",
    "    x = 50\n",
    "    y = 50\n",
    "    color = [\"white\", \"red\", \"blue\", \"orange\"]\n",
    "\n",
    "    for word in words:\n",
    "        l = wordfreq[word]\n",
    "        if word not in displayedwords:\n",
    "            \n",
    "            fontsize = int(10 + 85 * l / 3)\n",
    "            font = ImageFont.truetype(\"arial.ttf\", fontsize)\n",
    "            _, _, word_width, word_height = img.textbbox((0, 0), text=word, font=font)\n",
    "            \n",
    "            if x + word_width + 30 > size[0]:\n",
    "                x = 40\n",
    "                y += word_height + 23\n",
    "            \n",
    "            img.text((x + 30 + random.randint(0, 15), y + 15 + random.randint(0, 10)), word, fill=color[random.randint(0, 3)], font=font)\n",
    "            x += word_width\n",
    "            displayedwords.add(word)\n",
    "\n",
    "    plt.imshow(cloud)\n",
    "    plt.axis('off')\n",
    "    plt.show()"
   ]
  },
  {
   "cell_type": "code",
   "execution_count": 8,
   "id": "9a9024f6",
   "metadata": {},
   "outputs": [
    {
     "ename": "NameError",
     "evalue": "name 'word_width' is not defined",
     "output_type": "error",
     "traceback": [
      "\u001b[1;31m---------------------------------------------------------------------------\u001b[0m",
      "\u001b[1;31mNameError\u001b[0m                                 Traceback (most recent call last)",
      "Input \u001b[1;32mIn [8]\u001b[0m, in \u001b[0;36m<cell line: 12>\u001b[1;34m()\u001b[0m\n\u001b[0;32m     10\u001b[0m words \u001b[38;5;241m=\u001b[39m preprocesstext(text)\n\u001b[0;32m     11\u001b[0m wordfreq \u001b[38;5;241m=\u001b[39m calculatewordfreq(words)\n\u001b[1;32m---> 12\u001b[0m \u001b[43mcreatecloud\u001b[49m\u001b[43m(\u001b[49m\u001b[43mwordfreq\u001b[49m\u001b[43m,\u001b[49m\u001b[43mwords\u001b[49m\u001b[43m)\u001b[49m\n\u001b[0;32m     13\u001b[0m \u001b[38;5;28mprint\u001b[39m(\u001b[38;5;28mlen\u001b[39m(wordfreq))\n",
      "Input \u001b[1;32mIn [7]\u001b[0m, in \u001b[0;36mcreatecloud\u001b[1;34m(wordfreq, words, size)\u001b[0m\n\u001b[0;32m     13\u001b[0m fontsize \u001b[38;5;241m=\u001b[39m \u001b[38;5;28mint\u001b[39m(\u001b[38;5;241m10\u001b[39m \u001b[38;5;241m+\u001b[39m \u001b[38;5;241m85\u001b[39m \u001b[38;5;241m*\u001b[39m l \u001b[38;5;241m/\u001b[39m \u001b[38;5;241m3\u001b[39m)\n\u001b[0;32m     14\u001b[0m font \u001b[38;5;241m=\u001b[39m ImageFont\u001b[38;5;241m.\u001b[39mtruetype(\u001b[38;5;124m\"\u001b[39m\u001b[38;5;124marial.ttf\u001b[39m\u001b[38;5;124m\"\u001b[39m, fontsize)\n\u001b[1;32m---> 17\u001b[0m \u001b[38;5;28;01mif\u001b[39;00m x \u001b[38;5;241m+\u001b[39m \u001b[43mword_width\u001b[49m \u001b[38;5;241m+\u001b[39m \u001b[38;5;241m30\u001b[39m \u001b[38;5;241m>\u001b[39m size[\u001b[38;5;241m0\u001b[39m]:\n\u001b[0;32m     18\u001b[0m     x \u001b[38;5;241m=\u001b[39m \u001b[38;5;241m40\u001b[39m\n\u001b[0;32m     19\u001b[0m     y \u001b[38;5;241m+\u001b[39m\u001b[38;5;241m=\u001b[39m word_height \u001b[38;5;241m+\u001b[39m \u001b[38;5;241m23\u001b[39m\n",
      "\u001b[1;31mNameError\u001b[0m: name 'word_width' is not defined"
     ]
    }
   ],
   "source": [
    "text = \"\"\"\n",
    "In nearly all visions of the future that we see in movies or on television, the search\n",
    "engine, disguised as a computer system such as HAL 9000 in 2001: A Space\n",
    "Odyssey or the Computer in the Star Trek series, has evolved into a human-like assistant that can answer complex questions about any subject. Although web search\n",
    "engines provide access to a huge range of information, we are still a long way from\n",
    "achieving the capabilities of these intelligent assistants. One obvious difference is\n",
    "that queries to web search engines are generally formulated as a small number of\n",
    "keywords, rather than as actual questions expressed in natural language.\n",
    "\"\"\"\n",
    "words = preprocesstext(text)\n",
    "wordfreq = calculatewordfreq(words)\n",
    "createcloud(wordfreq,words)\n",
    "print(len(wordfreq))"
   ]
  },
  {
   "cell_type": "code",
   "execution_count": null,
   "id": "694469d0",
   "metadata": {},
   "outputs": [],
   "source": []
  }
 ],
 "metadata": {
  "kernelspec": {
   "display_name": "Python 3 (ipykernel)",
   "language": "python",
   "name": "python3"
  },
  "language_info": {
   "codemirror_mode": {
    "name": "ipython",
    "version": 3
   },
   "file_extension": ".py",
   "mimetype": "text/x-python",
   "name": "python",
   "nbconvert_exporter": "python",
   "pygments_lexer": "ipython3",
   "version": "3.9.12"
  }
 },
 "nbformat": 4,
 "nbformat_minor": 5
}
